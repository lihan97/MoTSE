{
 "cells": [
  {
   "cell_type": "code",
   "execution_count": null,
   "metadata": {
    "scrolled": true
   },
   "outputs": [],
   "source": [
    "import torch\n",
    "import pandas as pd\n",
    "from utils import load_model, makedir, set_random_seed\n",
    "from utils.data import load_data\n",
    "from trainer import Trainer\n",
    "\n",
    "%load_ext autoreload\n",
    "%autoreload 2\n",
    "set_random_seed(22)"
   ]
  },
  {
   "cell_type": "markdown",
   "metadata": {},
   "source": [
    "# Pretraining Source Tasks"
   ]
  },
  {
   "cell_type": "markdown",
   "metadata": {},
   "source": [
    "## Configuration"
   ]
  },
  {
   "cell_type": "code",
   "execution_count": null,
   "metadata": {},
   "outputs": [],
   "source": [
    "dataset = 'QM9'\n",
    "tasks = [\"mu\",\"alpha\",\"homo\",\"lumo\",\"gap\",\"r2\",\"zpve\",\"u0\",\"u298\",\"h298\",\"g298\",\"cv\"]\n",
    "data_path = '../datasets/qm9/10000/'\n",
    "model_type = 'GCN'\n",
    "model_path = f\"../saved_models/QM9/GCN/10000/\"\n",
    "makedir(model_path)\n",
    "device = torch.device(\"cuda\") if torch.cuda.is_available() else torch.device(\"cpu\")\n",
    "results_dict = {'task':[]}"
   ]
  },
  {
   "cell_type": "markdown",
   "metadata": {},
   "source": [
    "## Training"
   ]
  },
  {
   "cell_type": "code",
   "execution_count": null,
   "metadata": {
    "scrolled": false
   },
   "outputs": [],
   "source": [
    "for task in tasks:\n",
    "    print(task)\n",
    "    train_loader, val_loader, test_loader, data_args = load_data(\n",
    "        dataset=dataset,\n",
    "        data_path=data_path,                  \n",
    "        tasks=[task],\n",
    "        device = device\n",
    "    )\n",
    "    model = load_model(n_tasks=1, device=device)\n",
    "    trainer = Trainer(device=device,tasks=[task],\n",
    "                      data_args=data_args,model_path=model_path,\n",
    "                     )\n",
    "    model, task_results_dict = trainer.fit(model, train_loader, \n",
    "                                      val_loader, test_loader)\n",
    "    results_dict['task'].append(task)\n",
    "    for metric in data_args['metrics']:\n",
    "        if metric not in list(results_dict.keys()):\n",
    "            results_dict.update({metric:[]})\n",
    "        results_dict[metric].append(task_results_dict[metric][task])"
   ]
  },
  {
   "cell_type": "code",
   "execution_count": null,
   "metadata": {},
   "outputs": [],
   "source": [
    "result_path = model_path.replace('saved_models','results')\n",
    "makedir(result_path)\n",
    "pd.DataFrame(results_dict).to_csv(result_path+'results.csv', float_format='%.3f',\n",
    "                                  index=False)\n",
    "print(f\"Results have been saved to {result_path+'results.csv'}\")"
   ]
  },
  {
   "cell_type": "markdown",
   "metadata": {},
   "source": [
    "# Training Target Tasks"
   ]
  },
  {
   "cell_type": "markdown",
   "metadata": {},
   "source": [
    "## Configuration"
   ]
  },
  {
   "cell_type": "code",
   "execution_count": null,
   "metadata": {},
   "outputs": [],
   "source": [
    "dataset = 'QM9'\n",
    "tasks = [\"mu\",\"alpha\",\"homo\",\"lumo\",\"gap\",\"r2\",\"zpve\",\"u0\",\"u298\",\"h298\",\"g298\",\"cv\"]\n",
    "data_path = '../datasets/qm9/1000/'\n",
    "model_type = 'GCN'\n",
    "model_path = f\"../saved_models/QM9/GCN/1000/\"\n",
    "makedir(model_path)\n",
    "device = torch.device(\"cuda\") if torch.cuda.is_available() else torch.device(\"cpu\")\n",
    "results_dict = {'task':[]}"
   ]
  },
  {
   "cell_type": "markdown",
   "metadata": {},
   "source": [
    "## Training"
   ]
  },
  {
   "cell_type": "code",
   "execution_count": null,
   "metadata": {},
   "outputs": [],
   "source": [
    "for task in tasks:\n",
    "    print(task)\n",
    "    train_loader, val_loader, test_loader, data_args = load_data(\n",
    "        dataset=dataset,\n",
    "        data_path=data_path,                  \n",
    "        tasks=[task],\n",
    "        device = device\n",
    "    )\n",
    "    model = load_model(model_type, n_tasks=1, device=device)\n",
    "    trainer = Trainer(device=device,tasks=[task],\n",
    "                      data_args=data_args,model_path=model_path,\n",
    "                     )\n",
    "    model, task_results_dict = trainer.fit(model, train_loader, \n",
    "                                      val_loader, test_loader)\n",
    "    results_dict['task'].append(task)\n",
    "    for metric in data_args['metrics']:\n",
    "        if metric not in list(results_dict.keys()):\n",
    "            results_dict.update({metric:[]})\n",
    "        results_dict[metric].append(task_results_dict[metric][task])"
   ]
  },
  {
   "cell_type": "code",
   "execution_count": null,
   "metadata": {},
   "outputs": [],
   "source": [
    "result_path = model_path.replace('saved_models','results')\n",
    "makedir(result_path)\n",
    "pd.DataFrame(results_dict).to_csv(result_path+'results.csv', float_format='%.3f',\n",
    "                                  index=False)\n",
    "print(f\"Results have been saved to {result_path+'results.csv'}\")"
   ]
  }
 ],
 "metadata": {
  "kernelspec": {
   "display_name": "Python 3",
   "language": "python",
   "name": "python3"
  },
  "language_info": {
   "codemirror_mode": {
    "name": "ipython",
    "version": 3
   },
   "file_extension": ".py",
   "mimetype": "text/x-python",
   "name": "python",
   "nbconvert_exporter": "python",
   "pygments_lexer": "ipython3",
   "version": "3.6.10"
  }
 },
 "nbformat": 4,
 "nbformat_minor": 4
}
