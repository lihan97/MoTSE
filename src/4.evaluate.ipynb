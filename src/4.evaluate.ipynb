{
 "cells": [
  {
   "cell_type": "code",
   "execution_count": 1,
   "metadata": {},
   "outputs": [],
   "source": [
    "import numpy as np\n",
    "import pandas as pd\n",
    "import torch\n",
    "from motse import MoTSE\n",
    "\n",
    "%load_ext autoreload\n",
    "%autoreload 2"
   ]
  },
  {
   "cell_type": "markdown",
   "metadata": {},
   "source": [
    "# Configuration"
   ]
  },
  {
   "cell_type": "code",
   "execution_count": 2,
   "metadata": {},
   "outputs": [],
   "source": [
    "scratch_result_path = \"../results/QM9/GCN/1000/\"\n",
    "transfer_results_path = \"../results/QM9/GCN/10000->1000/\"\n",
    "similarity_path = \"../results/QM9/GCN/10000/\"\n",
    "probe_data = \"zinc500\"\n",
    "target_tasks = [\"mu\",\"alpha\",\"homo\",\"lumo\",\"gap\",\"r2\",\"zpve\",\"u0\",\"u298\",\"h298\",\"g298\",\"cv\"]\n",
    "device = torch.device(\"cuda:0\") if torch.cuda.is_available() else torch.device(\"cpu\")\n",
    "n_recoms = 3"
   ]
  },
  {
   "cell_type": "markdown",
   "metadata": {},
   "source": [
    "# Evaluation"
   ]
  },
  {
   "cell_type": "code",
   "execution_count": 3,
   "metadata": {},
   "outputs": [
    {
     "name": "stdout",
     "output_type": "stream",
     "text": [
      "['mu'] scrach:0.3530, motse:0.3380, best:0.3400\n",
      "['alpha'] scrach:0.5890, motse:0.8340, best:0.8340\n",
      "['homo'] scrach:0.3840, motse:0.4200, best:0.4290\n",
      "['lumo'] scrach:0.3010, motse:0.4080, best:0.4080\n",
      "['gap'] scrach:0.3370, motse:0.4110, best:0.4110\n",
      "['r2'] scrach:0.4310, motse:0.7490, best:0.7490\n",
      "['zpve'] scrach:0.5630, motse:0.6340, best:0.6340\n",
      "['u0'] scrach:0.6310, motse:0.9940, best:0.9940\n",
      "['u298'] scrach:0.6810, motse:0.9940, best:0.9940\n",
      "['h298'] scrach:0.7190, motse:0.9950, best:0.9950\n",
      "['g298'] scrach:0.7760, motse:0.9950, best:0.9950\n",
      "['cv'] scrach:0.5970, motse:0.8150, best:0.8150\n",
      "[mean] scratch:0.5302, motse:0.7156, best:0.7165\n"
     ]
    }
   ],
   "source": [
    "scratch_list, moste_list, best_list = [],[],[]\n",
    "for target_task in target_tasks:\n",
    "    # data loading\n",
    "    scratch_result = pd.read_csv(f\"{scratch_result_path}results.csv\",index_col=0).loc[target_task].values[0]\n",
    "    transfer_results = pd.read_csv(f\"{transfer_results_path}{target_task}.csv\", header=0)\n",
    "    similarity = pd.read_csv(f\"{similarity_path}{probe_data}/{target_task}.csv\", header=0)\n",
    "    \n",
    "    source_tasks = transfer_results['source task'].values.tolist()\n",
    "    transfer_results = transfer_results['r2'].values.tolist()\n",
    "    similarity = similarity['motse'].values.tolist()\n",
    "\n",
    "    drop_id = source_tasks.index(target_task)\n",
    "    source_tasks.pop(drop_id)\n",
    "    transfer_results.pop(drop_id)\n",
    "    similarity.pop(drop_id)\n",
    "    \n",
    "    # evaluating\n",
    "    motse = MoTSE(device)  \n",
    "    scratch, motse, best = motse.eval_source_task_recom(n_recoms, target_task, source_tasks, scratch_result,np.array(transfer_results),np.array(similarity))\n",
    "    scratch_list.append(scratch)\n",
    "    moste_list.append(motse)\n",
    "    best_list.append(best)\n",
    "print(f\"[mean] scratch:{np.mean(scratch_list):.4f}, motse:{np.mean(moste_list):.4f}, best:{np.mean(best_list):.4f}\")"
   ]
  },
  {
   "cell_type": "code",
   "execution_count": null,
   "metadata": {},
   "outputs": [],
   "source": []
  },
  {
   "cell_type": "code",
   "execution_count": null,
   "metadata": {},
   "outputs": [],
   "source": []
  }
 ],
 "metadata": {
  "kernelspec": {
   "display_name": "Python 3",
   "language": "python",
   "name": "python3"
  },
  "language_info": {
   "codemirror_mode": {
    "name": "ipython",
    "version": 3
   },
   "file_extension": ".py",
   "mimetype": "text/x-python",
   "name": "python",
   "nbconvert_exporter": "python",
   "pygments_lexer": "ipython3",
   "version": "3.6.10"
  }
 },
 "nbformat": 4,
 "nbformat_minor": 4
}
