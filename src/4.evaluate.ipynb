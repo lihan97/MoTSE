{
 "cells": [
  {
   "cell_type": "code",
   "execution_count": null,
   "metadata": {},
   "outputs": [],
   "source": [
    "import numpy as np\n",
    "import pandas as pd\n",
    "\n",
    "from motse import MoTSE\n",
    "\n",
    "%load_ext autoreload\n",
    "%autoreload 2"
   ]
  },
  {
   "cell_type": "markdown",
   "metadata": {},
   "source": [
    "# Configuration"
   ]
  },
  {
   "cell_type": "code",
   "execution_count": null,
   "metadata": {},
   "outputs": [],
   "source": [
    "scratch_result_path = \"../results/QM9/GCN/1000/\"\n",
    "transfer_results_path = \"../results/QM9/GCN/10000->1000/\"\n",
    "similarity_path = \"../results/QM9/GCN/10000/\"\n",
    "probe_data = \"zinc500\"\n",
    "target_tasks = [\"mu\",\"alpha\",\"homo\",\"lumo\",\"gap\",\"r2\",\"zpve\",\"u0\",\"u298\",\"h298\",\"g298\",\"cv\"]\n",
    "n_recoms = 3"
   ]
  },
  {
   "cell_type": "markdown",
   "metadata": {},
   "source": [
    "# Evaluation"
   ]
  },
  {
   "cell_type": "code",
   "execution_count": null,
   "metadata": {},
   "outputs": [],
   "source": [
    "scratch_list, moste_list, best_list = [],[],[]\n",
    "for target_task in target_tasks:\n",
    "    # data loading\n",
    "    scratch_result = pd.read_csv(f\"{scratch_result_path}results.csv\",index_col=0).loc[target_task].values[0]\n",
    "    transfer_results = pd.read_csv(f\"{transfer_results_path}{target_task}.csv\", header=0)\n",
    "    similarity = pd.read_csv(f\"{similarity_path}{probe_data}/{target_task}.csv\", header=0)\n",
    "    \n",
    "    source_tasks = transfer_results['source task'].values.tolist()\n",
    "    transfer_results = transfer_results['r2'].values.tolist()\n",
    "    similarity = similarity['motse'].values.tolist()\n",
    "\n",
    "    drop_id = source_tasks.index(target_task)\n",
    "    source_tasks.pop(drop_id)\n",
    "    transfer_results.pop(drop_id)\n",
    "    similarity.pop(drop_id)\n",
    "    \n",
    "    # evaluating\n",
    "    motse = MoTSE()  \n",
    "    scratch, motse, best = motse.eval_source_task_recom(n_recoms, target_task, source_tasks, scratch_result,np.array(transfer_results),np.array(similarity))\n",
    "    scratch_list.append(scratch)\n",
    "    moste_list.append(motse)\n",
    "    best_list.append(best)\n",
    "print(f\"[mean] scratch:{np.mean(scratch_list):.3f}, motse:{np.mean(moste_list):.3f}, best:{np.mean(best_list)}\")"
   ]
  },
  {
   "cell_type": "code",
   "execution_count": null,
   "metadata": {},
   "outputs": [],
   "source": []
  },
  {
   "cell_type": "code",
   "execution_count": null,
   "metadata": {},
   "outputs": [],
   "source": []
  }
 ],
 "metadata": {
  "kernelspec": {
   "display_name": "Python 3",
   "language": "python",
   "name": "python3"
  },
  "language_info": {
   "codemirror_mode": {
    "name": "ipython",
    "version": 3
   },
   "file_extension": ".py",
   "mimetype": "text/x-python",
   "name": "python",
   "nbconvert_exporter": "python",
   "pygments_lexer": "ipython3",
   "version": "3.6.10"
  }
 },
 "nbformat": 4,
 "nbformat_minor": 4
}
