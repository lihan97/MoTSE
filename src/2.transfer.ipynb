{
 "cells": [
  {
   "cell_type": "code",
   "execution_count": null,
   "metadata": {
    "scrolled": true
   },
   "outputs": [],
   "source": [
    "import torch\n",
    "import pandas as pd\n",
    "from utils import load_model, makedir, set_random_seed\n",
    "from utils.data import load_data\n",
    "from trainer import Trainer\n",
    "\n",
    "%load_ext autoreload\n",
    "%autoreload 2\n",
    "set_random_seed(22)"
   ]
  },
  {
   "cell_type": "markdown",
   "metadata": {},
   "source": [
    "# Transfer 10000->1000"
   ]
  },
  {
   "cell_type": "markdown",
   "metadata": {},
   "source": [
    "## Configuration"
   ]
  },
  {
   "cell_type": "code",
   "execution_count": null,
   "metadata": {},
   "outputs": [],
   "source": [
    "dataset = 'QM9'\n",
    "source_tasks = target_tasks = [\"mu\",\"alpha\",\"homo\",\"lumo\",\"gap\",\"r2\",\"zpve\",\"u0\",\"u298\",\"h298\",\"g298\",\"cv\"]\n",
    "data_path = '../datasets/qm9/1000/'\n",
    "model_type = 'GCN'\n",
    "source_model_path = f\"../saved_models/QM9/GCN/10000/\"\n",
    "model_path = f\"../saved_models/QM9/GCN/10000->1000/\"\n",
    "makedir(model_path)\n",
    "device = torch.device(\"cuda:1\") if torch.cuda.is_available() else torch.device(\"cpu\")\n",
    "results_dict = dict()"
   ]
  },
  {
   "cell_type": "markdown",
   "metadata": {},
   "source": [
    "## Transfering"
   ]
  },
  {
   "cell_type": "code",
   "execution_count": null,
   "metadata": {},
   "outputs": [],
   "source": [
    "for target_task in target_tasks:\n",
    "    results_dict[target_task] = {'source task':[]}\n",
    "    for source_task in source_tasks:\n",
    "        print(f\"{source_task}->{target_task}\")\n",
    "        \n",
    "        train_loader, val_loader, test_loader, data_args = load_data(\n",
    "            dataset=dataset,data_path=data_path,tasks=[target_task],\n",
    "            model_type=model_type,device = device\n",
    "        )\n",
    "        model = load_model(\n",
    "            model_type, 1, device=device,\n",
    "            source_model_path=source_model_path+f\"{source_task}.pth\"\n",
    "        )\n",
    "        trainer = Trainer(\n",
    "            device=device,tasks=[target_task],\n",
    "            data_args=data_args,model_path=model_path        )\n",
    "        _, task_results_dict = trainer.fit(model, train_loader, val_loader, test_loader)\n",
    "        results_dict[target_task]['source task'].append(source_task)\n",
    "        for metric in data_args['metrics']:\n",
    "            if metric not in list(results_dict[target_task].keys()):\n",
    "                results_dict[target_task].update({metric:[]})\n",
    "            results_dict[target_task][metric].append(task_results_dict[metric][target_task])\n",
    "    result_path = model_path.replace('saved_models','results')\n",
    "    makedir(result_path)\n",
    "    pd.DataFrame(results_dict[target_task]).to_csv(\n",
    "        result_path+f'{target_task}.csv', float_format='%.3f',index=False)\n",
    "    print(f\"Results have been saved to {result_path+target_task+'.csv'}\")"
   ]
  },
  {
   "cell_type": "code",
   "execution_count": null,
   "metadata": {},
   "outputs": [],
   "source": []
  }
 ],
 "metadata": {
  "kernelspec": {
   "display_name": "Python 3",
   "language": "python",
   "name": "python3"
  },
  "language_info": {
   "codemirror_mode": {
    "name": "ipython",
    "version": 3
   },
   "file_extension": ".py",
   "mimetype": "text/x-python",
   "name": "python",
   "nbconvert_exporter": "python",
   "pygments_lexer": "ipython3",
   "version": "3.6.10"
  }
 },
 "nbformat": 4,
 "nbformat_minor": 4
}
