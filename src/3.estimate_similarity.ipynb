{
 "cells": [
  {
   "cell_type": "code",
   "execution_count": null,
   "metadata": {
    "scrolled": true
   },
   "outputs": [],
   "source": [
    "from motse import MoTSE\n",
    "\n",
    "from utils.data import load_probe_data\n",
    "from utils import set_random_seed\n",
    "%load_ext autoreload\n",
    "%autoreload 2\n",
    "set_random_seed(22)"
   ]
  },
  {
   "cell_type": "code",
   "execution_count": null,
   "metadata": {},
   "outputs": [],
   "source": [
    "model_type = 'GCN'\n",
    "probe_data_path = '../datasets/probe_data/zinc500/'"
   ]
  },
  {
   "cell_type": "code",
   "execution_count": null,
   "metadata": {},
   "outputs": [],
   "source": [
    "motse = MoTSE()"
   ]
  },
  {
   "cell_type": "code",
   "execution_count": null,
   "metadata": {},
   "outputs": [],
   "source": [
    "probe_data = load_probe_data(probe_data_path)"
   ]
  },
  {
   "cell_type": "code",
   "execution_count": null,
   "metadata": {},
   "outputs": [],
   "source": [
    "source_tasks = target_tasks = [\"mu\",\"alpha\",\"homo\",\"lumo\",\"gap\",\"r2\",\"zpve\",\"u0\",\"u298\",\"h298\",\"g298\",\"cv\"]\n",
    "source_model_paths = []\n",
    "for task in source_tasks:\n",
    "    source_model_paths.append(f\"../saved_models/QM9/GCN/10000/{task}.pth\")\n",
    "target_model_paths = []\n",
    "for task in target_tasks:\n",
    "    target_model_paths.append(f\"../saved_models/QM9/GCN/10000/{task}.pth\")"
   ]
  },
  {
   "cell_type": "code",
   "execution_count": null,
   "metadata": {},
   "outputs": [],
   "source": [
    "motse.cal_sim(model_type,source_tasks,target_tasks,\n",
    "              source_model_paths,target_model_paths,\n",
    "              probe_data\n",
    "             )"
   ]
  },
  {
   "cell_type": "code",
   "execution_count": null,
   "metadata": {},
   "outputs": [],
   "source": []
  }
 ],
 "metadata": {
  "kernelspec": {
   "display_name": "Python 3",
   "language": "python",
   "name": "python3"
  },
  "language_info": {
   "codemirror_mode": {
    "name": "ipython",
    "version": 3
   },
   "file_extension": ".py",
   "mimetype": "text/x-python",
   "name": "python",
   "nbconvert_exporter": "python",
   "pygments_lexer": "ipython3",
   "version": "3.6.10"
  }
 },
 "nbformat": 4,
 "nbformat_minor": 4
}
