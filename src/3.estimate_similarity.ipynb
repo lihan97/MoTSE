{
 "cells": [
  {
   "cell_type": "code",
   "execution_count": 1,
   "metadata": {
    "scrolled": true
   },
   "outputs": [],
   "source": [
    "import torch\n",
    "from motse import MoTSE\n",
    "\n",
    "from utils.data import load_probe_data\n",
    "from utils import set_random_seed\n",
    "%load_ext autoreload\n",
    "%autoreload 2\n",
    "set_random_seed(22)"
   ]
  },
  {
   "cell_type": "code",
   "execution_count": 2,
   "metadata": {},
   "outputs": [],
   "source": [
    "model_type = 'GCN'\n",
    "probe_data_path = '../datasets/probe_data/zinc500/'\n",
    "device = torch.device(\"cuda:0\") if torch.cuda.is_available() else torch.device(\"cpu\")"
   ]
  },
  {
   "cell_type": "code",
   "execution_count": 3,
   "metadata": {},
   "outputs": [],
   "source": [
    "motse = MoTSE(device)"
   ]
  },
  {
   "cell_type": "code",
   "execution_count": 4,
   "metadata": {},
   "outputs": [
    {
     "name": "stdout",
     "output_type": "stream",
     "text": [
      "500 loaded!\n"
     ]
    }
   ],
   "source": [
    "probe_data = load_probe_data(probe_data_path)"
   ]
  },
  {
   "cell_type": "code",
   "execution_count": 5,
   "metadata": {},
   "outputs": [],
   "source": [
    "source_tasks = target_tasks = [\"mu\",\"alpha\",\"homo\",\"lumo\",\"gap\",\"r2\",\"zpve\",\"u0\",\"u298\",\"h298\",\"g298\",\"cv\"]\n",
    "source_model_paths = []\n",
    "for task in source_tasks:\n",
    "    source_model_paths.append(f\"../saved_models/QM9/GCN/10000/{task}.pth\")\n",
    "target_model_paths = []\n",
    "for task in target_tasks:\n",
    "    target_model_paths.append(f\"../saved_models/QM9/GCN/10000/{task}.pth\")"
   ]
  },
  {
   "cell_type": "code",
   "execution_count": 6,
   "metadata": {},
   "outputs": [
    {
     "name": "stdout",
     "output_type": "stream",
     "text": [
      "loading pretrained model: ../saved_models/QM9/GCN/10000/mu.pth\n",
      "loading pretrained model: ../saved_models/QM9/GCN/10000/alpha.pth\n",
      "loading pretrained model: ../saved_models/QM9/GCN/10000/homo.pth\n",
      "loading pretrained model: ../saved_models/QM9/GCN/10000/lumo.pth\n",
      "loading pretrained model: ../saved_models/QM9/GCN/10000/gap.pth\n",
      "loading pretrained model: ../saved_models/QM9/GCN/10000/r2.pth\n",
      "loading pretrained model: ../saved_models/QM9/GCN/10000/zpve.pth\n",
      "loading pretrained model: ../saved_models/QM9/GCN/10000/u0.pth\n",
      "loading pretrained model: ../saved_models/QM9/GCN/10000/u298.pth\n",
      "loading pretrained model: ../saved_models/QM9/GCN/10000/h298.pth\n",
      "loading pretrained model: ../saved_models/QM9/GCN/10000/g298.pth\n",
      "loading pretrained model: ../saved_models/QM9/GCN/10000/cv.pth\n",
      "loading pretrained model: ../saved_models/QM9/GCN/10000/mu.pth\n",
      "loading pretrained model: ../saved_models/QM9/GCN/10000/alpha.pth\n",
      "loading pretrained model: ../saved_models/QM9/GCN/10000/homo.pth\n",
      "loading pretrained model: ../saved_models/QM9/GCN/10000/lumo.pth\n",
      "loading pretrained model: ../saved_models/QM9/GCN/10000/gap.pth\n",
      "loading pretrained model: ../saved_models/QM9/GCN/10000/r2.pth\n",
      "loading pretrained model: ../saved_models/QM9/GCN/10000/zpve.pth\n",
      "loading pretrained model: ../saved_models/QM9/GCN/10000/u0.pth\n",
      "loading pretrained model: ../saved_models/QM9/GCN/10000/u298.pth\n",
      "loading pretrained model: ../saved_models/QM9/GCN/10000/h298.pth\n",
      "loading pretrained model: ../saved_models/QM9/GCN/10000/g298.pth\n",
      "loading pretrained model: ../saved_models/QM9/GCN/10000/cv.pth\n",
      "Results have been saved to ../results/QM9/GCN/10000/zinc500/.\n"
     ]
    }
   ],
   "source": [
    "motse.cal_sim(source_tasks,target_tasks,\n",
    "              source_model_paths,target_model_paths,\n",
    "              probe_data\n",
    "             )"
   ]
  },
  {
   "cell_type": "code",
   "execution_count": null,
   "metadata": {},
   "outputs": [],
   "source": []
  }
 ],
 "metadata": {
  "kernelspec": {
   "display_name": "Python 3",
   "language": "python",
   "name": "python3"
  },
  "language_info": {
   "codemirror_mode": {
    "name": "ipython",
    "version": 3
   },
   "file_extension": ".py",
   "mimetype": "text/x-python",
   "name": "python",
   "nbconvert_exporter": "python",
   "pygments_lexer": "ipython3",
   "version": "3.6.10"
  }
 },
 "nbformat": 4,
 "nbformat_minor": 4
}
